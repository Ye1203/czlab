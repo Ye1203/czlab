{
 "cells": [
  {
   "cell_type": "code",
   "execution_count": 1,
   "metadata": {},
   "outputs": [],
   "source": [
    "import scanpy as sc\n",
    "import pandas as pd\n",
    "import networkx as nx\n",
    "import matplotlib.pyplot as plt\n",
    "import numpy as np  \n",
    "import paga_adjust\n",
    "from importlib import reload"
   ]
  },
  {
   "cell_type": "code",
   "execution_count": 2,
   "metadata": {},
   "outputs": [
    {
     "name": "stderr",
     "output_type": "stream",
     "text": [
      "/projectnb/czlab/A00/BingtianYe/paga_weight/czlab/myenv/lib/python3.11/site-packages/tqdm/auto.py:21: TqdmWarning: IProgress not found. Please update jupyter and ipywidgets. See https://ipywidgets.readthedocs.io/en/stable/user_install.html\n",
      "  from .autonotebook import tqdm as notebook_tqdm\n"
     ]
    }
   ],
   "source": [
    "adata = sc.read_h5ad('/projectnb/czlab/A00/ycliu/trajectory_adata_with_attentions/Planaria-pair-10_plass/scDiffusion_adata.h5ad')\n",
    "sc.pp.neighbors(adata, n_neighbors=10, n_pcs=50, use_rep = 'X_dif')\n",
    "sc.tl.paga(adata,groups='labels')"
   ]
  },
  {
   "cell_type": "code",
   "execution_count": 60,
   "metadata": {},
   "outputs": [
    {
     "name": "stdout",
     "output_type": "stream",
     "text": [
      "The value of knn_n is not entered, the default value is 5.\n",
      "The value of conn_threshold is not entered, the default value is 0.5.\n",
      "                           label  \\\n",
      "0         aqp+ parenchymal cells   \n",
      "1    early epidermal progenitors   \n",
      "2            epidermal neoblasts   \n",
      "3                      epidermis   \n",
      "4   late epidermal progenitors 1   \n",
      "5   late epidermal progenitors 2   \n",
      "6     ldlrr-1+ parenchymal cells   \n",
      "7                    muscle body   \n",
      "8                 muscle pharynx   \n",
      "9             muscle progenitors   \n",
      "10                    neoblast 1   \n",
      "11       parenchymal progenitors   \n",
      "12                       pigment   \n",
      "13       psap+ parenchymal cells   \n",
      "\n",
      "                                           coordinate  \n",
      "0   [-4.552006, -2.8444972, 5.7279973, 0.72748435,...  \n",
      "1   [0.9413419, -1.0447931, 1.9289242, -6.4848204,...  \n",
      "2   [-0.10600518, -0.08394946, 2.4029965, -2.85545...  \n",
      "3   [3.007257, -2.3846016, -2.9091036, -5.382677, ...  \n",
      "4   [0.047091685, 0.011412466, 1.2899452, -8.94700...  \n",
      "5   [-0.76912475, 1.0385257, 0.89953583, -10.01276...  \n",
      "6   [-1.6562157, 0.8270899, 4.845525, 1.1912389, -...  \n",
      "7   [-4.264297, -10.645452, 0.7106867, 0.48346034,...  \n",
      "8   [-3.2501476, -8.388138, 0.98811066, -0.7198502...  \n",
      "9   [-0.88310397, -1.5626892, 2.259141, -1.5300893...  \n",
      "10  [-0.41348425, 0.4220177, 2.4114463, -2.2043414...  \n",
      "11  [-0.749824, 0.3103844, 3.248364, -0.63352066, ...  \n",
      "12  [2.6664262, -3.616735, 4.0418324, 3.2394156, 3...  \n",
      "13  [-4.194509, -1.9355996, 3.8366947, -0.82911384...  \n"
     ]
    },
    {
     "name": "stderr",
     "output_type": "stream",
     "text": [
      "/projectnb/czlab/A00/BingtianYe/paga_weight/czlab/paga_adjust.py:141: FutureWarning: The default of observed=False is deprecated and will be changed to True in a future version of pandas. Pass observed=False to retain current behavior or observed=True to adopt the future default and silence this warning.\n",
      "  center_coordinate = data.groupby('label')['coordinate'].apply(lambda x: np.median(np.vstack(x), axis=0)).reset_index()\n"
     ]
    }
   ],
   "source": [
    "from importlib import reload\n",
    "import paga_adjust  \n",
    "reload(paga_adjust)  \n",
    "paga_adjust.paga_adjust(adata, root='neoblast 1')\n"
   ]
  },
  {
   "cell_type": "code",
   "execution_count": null,
   "metadata": {},
   "outputs": [],
   "source": []
  }
 ],
 "metadata": {
  "kernelspec": {
   "display_name": "myenv",
   "language": "python",
   "name": "python3"
  },
  "language_info": {
   "codemirror_mode": {
    "name": "ipython",
    "version": 3
   },
   "file_extension": ".py",
   "mimetype": "text/x-python",
   "name": "python",
   "nbconvert_exporter": "python",
   "pygments_lexer": "ipython3",
   "version": "3.11.9"
  }
 },
 "nbformat": 4,
 "nbformat_minor": 2
}
